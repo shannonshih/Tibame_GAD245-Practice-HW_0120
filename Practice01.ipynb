{
  "nbformat": 4,
  "nbformat_minor": 0,
  "metadata": {
    "colab": {
      "provenance": [],
      "authorship_tag": "ABX9TyOkiwbmQ0Pq1AfG8zpgS2QS",
      "include_colab_link": true
    },
    "kernelspec": {
      "name": "python3",
      "display_name": "Python 3"
    },
    "language_info": {
      "name": "python"
    }
  },
  "cells": [
    {
      "cell_type": "markdown",
      "metadata": {
        "id": "view-in-github",
        "colab_type": "text"
      },
      "source": [
        "<a href=\"https://colab.research.google.com/github/shannonshih/Tibame_GAD245-Practice-HW_0120/blob/main/Practice01.ipynb\" target=\"_parent\"><img src=\"https://colab.research.google.com/assets/colab-badge.svg\" alt=\"Open In Colab\"/></a>"
      ]
    },
    {
      "cell_type": "code",
      "execution_count": 3,
      "metadata": {
        "id": "bgcAVmxYQxGh"
      },
      "outputs": [],
      "source": [
        "import os\n",
        "import urllib.request as req\n",
        "import bs4 as bs\n",
        "\n",
        "url = \"https://www.ptt.cc/bbs/Beauty/M.1736755829.A.02A.html\"\n",
        "dirname = url.split(\"/\")[-1]\n",
        "if not os.path.exists(dirname):\n",
        "    os.makedirs(dirname)\n",
        "\n",
        "r = req.Request(url)\n",
        "r.add_header(\"User-Agent\", \"Mozilla/5.0 (Windows NT 10.0; Win64; x64) AppleWebKit/537.36 (KHTML, like Gecko) Chrome/131.0.0.0 Safari/537.36 Edg/131.0.0.0\")\n",
        "\n",
        "response = req.urlopen(r)\n",
        "html = bs.BeautifulSoup(response)\n",
        "\n",
        "# 如果沒有class的話\n",
        "# 1. 找她老爸\n",
        "# 2. 自己寫篩選方式(!!!!!)\n",
        "allow_subname = [\"jpg\", \"jpeg\", \"png\", \"gif\"]\n",
        "links = html.find_all(\"a\")\n",
        "for l in links:\n",
        "    href = l[\"href\"]\n",
        "    subname = href.split(\".\")[-1]\n",
        "    if subname.lower() in allow_subname:\n",
        "        r = req.Request(href)\n",
        "        r.add_header(\"User-Agent\", \"Mozilla/5.0 (Windows NT 10.0; Win64; x64) AppleWebKit/537.36 (KHTML, like Gecko) Chrome/131.0.0.0 Safari/537.36 Edg/131.0.0.0\")\n",
        "        img = req.urlopen(r)\n",
        "        # open一個新檔案來儲存\n",
        "        fname = href.split(\"/\")[-1]\n",
        "        # 完整路徑(用字串加法是有點累的)\n",
        "        fpath = os.path.join(dirname, fname)\n",
        "        f = open(fpath, \"wb\")\n",
        "        f.write(img.read())\n",
        "        f.close()"
      ]
    },
    {
      "cell_type": "code",
      "source": [
        "import os\n",
        "import urllib.request as req\n",
        "import bs4 as bs\n",
        "\n",
        "def dl_post_image(url):\n",
        "    # url = \"https://www.ptt.cc/bbs/Beauty/M.1736755829.A.02A.html\"\n",
        "    dirname = url.split(\"/\")[-1]\n",
        "    dirname = os.path.join(\"ptt\", dirname)\n",
        "    if not os.path.exists(dirname):\n",
        "        os.makedirs(dirname)\n",
        "    r = req.Request(url)\n",
        "    r.add_header(\"User-Agent\", \"Mozilla/5.0 (Windows NT 10.0; Win64; x64) AppleWebKit/537.36 (KHTML, like Gecko) Chrome/131.0.0.0 Safari/537.36 Edg/131.0.0.0\")\n",
        "\n",
        "    response = req.urlopen(r)\n",
        "    html = bs.BeautifulSoup(response)\n",
        "\n",
        "    # 如果沒有class的話\n",
        "    # 1. 找她老爸\n",
        "    # 2. 自己寫篩選方式(!!!!!)\n",
        "    allow_subname = [\"jpg\", \"jpeg\", \"png\", \"gif\"]\n",
        "    links = html.find_all(\"a\")\n",
        "    for l in links:\n",
        "        href = l[\"href\"]\n",
        "        subname = href.split(\".\")[-1]\n",
        "        if subname.lower() in allow_subname:\n",
        "            r = req.Request(href)\n",
        "            r.add_header(\"User-Agent\", \"Mozilla/5.0 (Windows NT 10.0; Win64; x64) AppleWebKit/537.36 (KHTML, like Gecko) Chrome/131.0.0.0 Safari/537.36 Edg/131.0.0.0\")\n",
        "            img = req.urlopen(r)\n",
        "            # open一個新檔案來儲存\n",
        "            # 完整路徑(用字串加法是有點累的)\n",
        "            fpath = os.path.join(dirname, fname)\n",
        "            f = open(fpath, \"wb\")\n",
        "            f.write(img.read())\n",
        "            f.close()"
      ],
      "metadata": {
        "id": "TjucsiUIYw8a"
      },
      "execution_count": 10,
      "outputs": []
    },
    {
      "cell_type": "code",
      "source": [
        "import urllib.request as req\n",
        "\n",
        "url = \"https://www.ptt.cc/bbs/Beauty/index3950.html\"\n",
        "r = req.Request(url)\n",
        "r.add_header(\"User-Agent\", \"Mozilla/5.0 (Windows NT 10.0; Win64; x64) AppleWebKit/537.36 (KHTML, like Gecko) Chrome/131.0.0.0 Safari/537.36 Edg/131.0.0.0\")\n",
        "\n",
        "response = req.urlopen(r)\n",
        "html = bs.BeautifulSoup(response)\n",
        "\n",
        "titles_list = html.find_all(\"div\", {\"class\":\"title\"})\n",
        "for t in titles_list:\n",
        "    # t裡有a: 正常\n",
        "    # t裡沒有a: 背刪文\n",
        "    post_link = t.find(\"a\")\n",
        "    if not post_link == None:\n",
        "        post_url = \"https://www.ptt.cc/\" + post_link[\"href\"]\n",
        "        print(post_url)\n",
        "        dl_post_image(post_url)\n",
        "    else:\n",
        "        print(\"這篇被刪了\")"
      ],
      "metadata": {
        "colab": {
          "base_uri": "https://localhost:8080/"
        },
        "id": "RCMhb7H7Zm2E",
        "outputId": "a8a4a61c-9e31-4fda-99e8-c6616e892f4c"
      },
      "execution_count": 13,
      "outputs": [
        {
          "output_type": "stream",
          "name": "stdout",
          "text": [
            "https://www.ptt.cc//bbs/Beauty/M.1737162050.A.EA1.html\n",
            "https://www.ptt.cc//bbs/Beauty/M.1737164418.A.B9B.html\n",
            "https://www.ptt.cc//bbs/Beauty/M.1737164759.A.625.html\n",
            "這篇被刪了\n",
            "https://www.ptt.cc//bbs/Beauty/M.1737172640.A.4C5.html\n",
            "https://www.ptt.cc//bbs/Beauty/M.1737177354.A.3CF.html\n",
            "https://www.ptt.cc//bbs/Beauty/M.1737179262.A.1E8.html\n",
            "https://www.ptt.cc//bbs/Beauty/M.1737182986.A.920.html\n",
            "https://www.ptt.cc//bbs/Beauty/M.1737189398.A.CAA.html\n",
            "https://www.ptt.cc//bbs/Beauty/M.1737192599.A.90F.html\n",
            "https://www.ptt.cc//bbs/Beauty/M.1737193583.A.A22.html\n",
            "https://www.ptt.cc//bbs/Beauty/M.1737209212.A.D66.html\n",
            "https://www.ptt.cc//bbs/Beauty/M.1737248469.A.BC8.html\n",
            "https://www.ptt.cc//bbs/Beauty/M.1737248570.A.E9D.html\n",
            "https://www.ptt.cc//bbs/Beauty/M.1737248677.A.D05.html\n",
            "https://www.ptt.cc//bbs/Beauty/M.1737248796.A.252.html\n",
            "https://www.ptt.cc//bbs/Beauty/M.1737251853.A.27E.html\n",
            "https://www.ptt.cc//bbs/Beauty/M.1737256223.A.C91.html\n",
            "https://www.ptt.cc//bbs/Beauty/M.1737258056.A.744.html\n",
            "https://www.ptt.cc//bbs/Beauty/M.1737260903.A.847.html\n"
          ]
        }
      ]
    }
  ]
}